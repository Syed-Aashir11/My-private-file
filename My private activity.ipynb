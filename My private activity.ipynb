{
 "cells": [
  {
   "cell_type": "code",
   "execution_count": 2,
   "id": "concrete-ghana",
   "metadata": {},
   "outputs": [
    {
     "data": {
      "text/plain": [
       "0.21114490000000075"
      ]
     },
     "execution_count": 2,
     "metadata": {},
     "output_type": "execute_result"
    }
   ],
   "source": [
    "# The \"timeit\" module lets you measure the execution\n",
    "# time of small bits of Python code\n",
    "\n",
    "import timeit\n",
    "timeit.timeit('\"-\".join(str(n) for n in range(100))',\n",
    "                  number=10000)\n",
    "\n",
    "0.3412662749997253\n",
    "\n",
    "timeit.timeit('\"-\".join([str(n) for n in range(100)])',\n",
    "                  number=10000)\n",
    "\n",
    "0.2996307989997149\n",
    "\n",
    "timeit.timeit('\"-\".join(map(str, range(100)))',\n",
    "                  number=10000)"
   ]
  },
  {
   "cell_type": "code",
   "execution_count": 7,
   "id": "immediate-knitting",
   "metadata": {},
   "outputs": [
    {
     "name": "stdout",
     "output_type": "stream",
     "text": [
      "The Zen of Python, by Tim Peters\n",
      "\n",
      "Beautiful is better than ugly.\n",
      "Explicit is better than implicit.\n",
      "Simple is better than complex.\n",
      "Complex is better than complicated.\n",
      "Flat is better than nested.\n",
      "Sparse is better than dense.\n",
      "Readability counts.\n",
      "Special cases aren't special enough to break the rules.\n",
      "Although practicality beats purity.\n",
      "Errors should never pass silently.\n",
      "Unless explicitly silenced.\n",
      "In the face of ambiguity, refuse the temptation to guess.\n",
      "There should be one-- and preferably only one --obvious way to do it.\n",
      "Although that way may not be obvious at first unless you're Dutch.\n",
      "Now is better than never.\n",
      "Although never is often better than *right* now.\n",
      "If the implementation is hard to explain, it's a bad idea.\n",
      "If the implementation is easy to explain, it may be a good idea.\n",
      "Namespaces are one honking great idea -- let's do more of those!\n"
     ]
    }
   ],
   "source": [
    "import this"
   ]
  },
  {
   "cell_type": "code",
   "execution_count": 16,
   "id": "impossible-episode",
   "metadata": {},
   "outputs": [
    {
     "data": {
      "text/plain": [
       "'Hi there what are you doing com and play with us!'"
      ]
     },
     "execution_count": 16,
     "metadata": {},
     "output_type": "execute_result"
    }
   ],
   "source": [
    "\n",
    "# The get() method on dicts\n",
    "# and its \"default\" argument\n",
    "\n",
    "name_for_userid = {\n",
    "    382: \"Alice\",\n",
    "    590: \"Bob\",\n",
    "    951: \"Dilbert\",\n",
    "}\n",
    "\n",
    "def greeting(userid):\n",
    "    return \"Hi %s!\" % name_for_userid.get(userid, \"there\")\n",
    "\n",
    "greeting(382)\n",
    "\"Hi Alice!\"\n",
    "\n",
    "greeting(333333)\n",
    "\"Hi there what are you doing com and play with us!\""
   ]
  },
  {
   "cell_type": "code",
   "execution_count": 18,
   "id": "transsexual-lotus",
   "metadata": {},
   "outputs": [
    {
     "data": {
      "text/plain": [
       "[('d', 1), ('c', 2), ('b', 3), ('a', 4)]"
      ]
     },
     "execution_count": 18,
     "metadata": {},
     "output_type": "execute_result"
    }
   ],
   "source": [
    "# How to sort a Python dict by value\n",
    "# (== get a representation sorted by value)\n",
    "\n",
    "xs = {'a': 4, 'b': 3, 'c': 2, 'd': 1}\n",
    "\n",
    "sorted(xs.items(), key=lambda x: x[1])\n",
    "[('d', 1), ('c', 2), ('b', 3), ('a', 4)]\n",
    "\n",
    "# Or:\n",
    "\n",
    "import operator\n",
    "sorted(xs.items(), key=operator.itemgetter(1))"
   ]
  },
  {
   "cell_type": "code",
   "execution_count": null,
   "id": "pleasant-gilbert",
   "metadata": {},
   "outputs": [],
   "source": []
  }
 ],
 "metadata": {
  "kernelspec": {
   "display_name": "Python 3",
   "language": "python",
   "name": "python3"
  },
  "language_info": {
   "codemirror_mode": {
    "name": "ipython",
    "version": 3
   },
   "file_extension": ".py",
   "mimetype": "text/x-python",
   "name": "python",
   "nbconvert_exporter": "python",
   "pygments_lexer": "ipython3",
   "version": "3.8.7"
  }
 },
 "nbformat": 4,
 "nbformat_minor": 5
}
